#!/usr/bin/env python
# coding: utf-8

# In[4]:


import random
suits={'Hearts','Diamonds','Spades','Clubs'}
ranks={'Two','Three','Four','Five','Six','Seven','Eight','Nine','Ten','Jack','Queen','King','Ace'}
values={ 'Two':2,'Three':3,'Four':4,'Five':5,'Six':6,'Seven':7,'Eight':8,'Nine':9,
        'Ten':10,'Jack':11,'Queen':12,'King':13,'Ace':14}




# In[5]:


class Card:
    
    def __init__(self,suit,rank):
        self.suit=suit
        self.rank=rank
        self.value=values[rank]
        
    def __str__(self):
        return self.rank +" of "+ self.suit


# In[6]:


two_hearts=Card("Hearts","Two")


# In[7]:


two_hearts.rank


# In[8]:


three_of_clubs=Card("Clubs",'Three')


# In[9]:


values[two_hearts.rank]


# In[10]:


two_hearts.value == three_of_clubs.value


# In[11]:


class Deck:
    def __init__(self):
        
        self.all_cards=[]
        for suit in suits


# In[20]:


class Deck:
    
    def __init__(self):
        self.all_cards= []
        
        for suit in suits:
            for rank in ranks:
                
                created_card =Card(suit,rank)
                
                self.all_cards.append(created_card)
    def shuffle(self): 
        random.shuffle(self.all_cards)
    
    def deal_one(self):
        return self.all_cards.pop()


# In[21]:


new_deck=Deck() 


# In[14]:


bottom_card=new_deck.all_cards[-1]


# In[15]:


print(bottom_card)


# In[22]:


new_deck.shuffle()


# In[18]:


print(new_deck.all_cards[0])


# In[24]:


mycard=new_deck.deal_one()


# In[25]:


print(mycard)


# In[30]:


class Player:
    
    def __init__(self,name):
        self.name=name
        self.all_cards=[]
    
    def remove_one(self):
        return self.all_cards.pop(0)
    
    def add_cards(self,new_cards):
        if type(new_cards)==type([]):
            self.all_cards.extend(new_cards)
        else:
            self.all_cards.append(new_cards)
    
    def __str__(self):
        return f'Player {self.name} has {len(self.all_cards)} cards.'
            


# In[31]:


new_player=Player("Mathi")


# In[32]:


print(new_player)


# In[33]:


new_player.add_cards(mycard)


# In[34]:


print(new_player)


# In[35]:


print(mycard)


# In[36]:


print(new_player.all_cards[0])


# In[37]:


new_player.add_cards([mycard,mycard,mycard])


# In[40]:


print(new_player)


# In[39]:


new_player.remove_one()


# In[ ]:





# In[ ]:




