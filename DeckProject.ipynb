import random

suits = {'Hearts', 'Diamonds', 'Spades', 'Clubs'}
ranks = {'Two', 'Three', 'Four', 'Five', 'Six', 'Seven', 'Eight', 'Nine', 'Ten', 'Jack', 'Queen', 'King', 'Ace'}
values = {'Two': 2, 'Three': 3, 'Four': 4, 'Five': 5, 'Six': 6, 'Seven': 7, 'Eight': 8, 'Nine': 9,
          'Ten': 10, 'Jack': 11, 'Queen': 12, 'King': 13, 'Ace': 14}

class Card:
    def __init__(self, suit, rank):
        self.suit = suit
        self.rank = rank
        self.value = values[rank]
    
    def __str__(self):
        return f'{self.rank} of {self.suit}'

class Deck:
    def __init__(self):
        self.all_cards = [Card(suit, rank) for suit in suits for rank in ranks]
        self.shuffle()
    
    def shuffle(self):
        random.shuffle(self.all_cards)
    
    def deal_one(self):
        return self.all_cards.pop() if self.all_cards else None

class Player:
    def __init__(self, name):
        self.name = name
        self.all_cards = []
    
    def remove_one(self):
        return self.all_cards.pop(0) if self.all_cards else None
    
    def add_cards(self, new_cards):
        if isinstance(new_cards, list):
            self.all_cards.extend(new_cards)
        else:
            self.all_cards.append(new_cards)
    
    def __str__(self):
        return f'Player {self.name} has {len(self.all_cards)} cards.'

# Game Setup
deck = Deck()
player1 = Player("Player 1")
player2 = Player("Player 2")

for i in range(26):  # 52 kartın yarısını her bir oyuncuya dağıtıyoruz
    player1.add_cards(deck.deal_one())
    player2.add_cards(deck.deal_one())

game_on = True
round_num = 0

while game_on:
    round_num += 1
    print(f'Round {round_num}')
    
    if len(player1.all_cards) == 0:
        print("Player 1 is out of cards! Player 2 wins!")
        game_on = False
        break
    elif len(player2.all_cards) == 0:
        print("Player 2 is out of cards! Player 1 wins!")
        game_on = False
        break
    
    # Oyuncular birer kart çeker
    player1_card = player1.remove_one()
    player2_card = player2.remove_one()
    print(f'{player1.name} plays {player1_card}, {player2.name} plays {player2_card}')
    
    if player1_card.value > player2_card.value:
        player1.add_cards([player1_card, player2_card])
    elif player1_card.value < player2_card.value:
        player2.add_cards([player1_card, player2_card])
    else:
        print("War!")
        war_pile = [player1_card, player2_card]
        
        war_active = True
        while war_active:
            if len(player1.all_cards) < 4:
                print("Player 1 cannot continue war! Player 2 wins!")
                game_on = False
                break
            elif len(player2.all_cards) < 4:
                print("Player 2 cannot continue war! Player 1 wins!")
                game_on = False
                break
            
            for _ in range(3):
                war_pile.append(player1.remove_one())
                war_pile.append(player2.remove_one())
            
            player1_war_card = player1.remove_one()
            player2_war_card = player2.remove_one()
            war_pile.extend([player1_war_card, player2_war_card])
            
            print(f'War cards: {player1_war_card} vs {player2_war_card}')
            
            if player1_war_card.value > player2_war_card.value:
                player1.add_cards(war_pile)
                war_active = False
            elif player1_war_card.value < player2_war_card.value:
                player2.add_cards(war_pile)
                war_active = False
            else:
                print("Another war!")

print("Game Over!")
